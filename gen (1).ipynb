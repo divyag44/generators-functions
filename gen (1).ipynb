{
 "cells": [
  {
   "cell_type": "markdown",
   "id": "8e65be6d-0f12-4945-b3dc-12a2e8fea7e7",
   "metadata": {},
   "source": [
    "### answer. def keyword is used to create a function."
   ]
  },
  {
   "cell_type": "markdown",
   "id": "5523ba3f-a1cd-4145-a674-be6b1d8ec33a",
   "metadata": {},
   "source": [
    "## Q1.Which keyword is used to create a function? Create a function to return a list of odd numbers in the range of 1 to 25."
   ]
  },
  {
   "cell_type": "code",
   "execution_count": 2,
   "id": "d2f301ce-fb21-40b6-9494-f201a649c90d",
   "metadata": {},
   "outputs": [],
   "source": [
    "#example\n",
    "def get_odd_numbers():\n",
    "    odd_numbers = []\n",
    "    for i in range(1, 26):\n",
    "        if i % 2 != 0:\n",
    "            odd_numbers.append(i)\n",
    "    return odd_numbers"
   ]
  },
  {
   "cell_type": "code",
   "execution_count": 3,
   "id": "1849a1d1-0ab1-4fff-a8ab-23b8b2034f08",
   "metadata": {},
   "outputs": [
    {
     "name": "stdout",
     "output_type": "stream",
     "text": [
      "[1, 3, 5, 7, 9, 11, 13, 15, 17, 19, 21, 23, 25]\n"
     ]
    }
   ],
   "source": [
    "result=get_odd_numbers()\n",
    "print(result)"
   ]
  },
  {
   "cell_type": "markdown",
   "id": "37e61b7e-e1a9-4d7f-8747-147b4aa4cf1c",
   "metadata": {},
   "source": [
    "##  Q2. Why *args and **kwargs is used in some functions? Create a function each for *args and **kwargs to demonstrate their use."
   ]
  },
  {
   "cell_type": "markdown",
   "id": "45618d30-b407-49b2-a91b-c5f7b16d2e2e",
   "metadata": {},
   "source": [
    "### answer. *args are used to enter arguments in a function .*args (Non-Keyword Arguments) **kwargs (Keyword Arguments)"
   ]
  },
  {
   "cell_type": "code",
   "execution_count": 4,
   "id": "0f3e829e-9a3c-4d01-ad30-672da4af1e01",
   "metadata": {},
   "outputs": [
    {
     "name": "stdout",
     "output_type": "stream",
     "text": [
      "Hello\n",
      "Welcome\n",
      "to\n",
      "GeeksforGeeks\n"
     ]
    }
   ],
   "source": [
    "#exapmle\n",
    "def myFun(*argv):\n",
    "    for arg in argv:\n",
    "        print(arg)\n",
    " \n",
    " \n",
    "myFun('Hello', 'Welcome', 'to', 'GeeksforGeeks')"
   ]
  },
  {
   "cell_type": "code",
   "execution_count": 5,
   "id": "f565c4b9-3450-4d38-ad41-81c44760155f",
   "metadata": {},
   "outputs": [
    {
     "name": "stdout",
     "output_type": "stream",
     "text": [
      "first == Geeks\n",
      "mid == for\n",
      "last == Geeks\n"
     ]
    }
   ],
   "source": [
    "#example2\n",
    "def myFun(**kwargs):\n",
    "    for key, value in kwargs.items():\n",
    "        print(\"%s == %s\" % (key, value))\n",
    " \n",
    " \n",
    "# Driver code\n",
    "myFun(first='Geeks', mid='for', last='Geeks')"
   ]
  },
  {
   "cell_type": "markdown",
   "id": "d01e5845-a8fd-456a-bc60-3409c8f62bdf",
   "metadata": {},
   "source": [
    "### Q3. What is an iterator in python? Name the method used to initialise the iterator object and the method used for iteration. Use these methods to print the first five elements of the given list [2, 4, 6, 8, 10, 12, 14, 16,18, 20]."
   ]
  },
  {
   "cell_type": "markdown",
   "id": "752ecd8a-58c3-433c-91a9-80a8247fdf33",
   "metadata": {},
   "source": [
    "### answer.An iterator is an object that contains a countable number of values.in Python, an iterator is an object which implements the iterator protocol, which consist of the methods __iter__() and __next__.Iteration is the process of repeatedly executing a set of instructions or operations on a sequence of elements or objects. In programming, iteration is commonly used to traverse through data structures such as lists, arrays, and dictionaries, and perform a certain operation on each element."
   ]
  },
  {
   "cell_type": "code",
   "execution_count": 6,
   "id": "2f71aae7-7eaa-4172-8ea5-d058cbbb5429",
   "metadata": {},
   "outputs": [
    {
     "name": "stdout",
     "output_type": "stream",
     "text": [
      "2\n",
      "4\n",
      "6\n",
      "8\n",
      "10\n"
     ]
    }
   ],
   "source": [
    "#exampls\n",
    "my_list = [2, 4, 6, 8, 10, 12, 14, 16, 18, 20]\n",
    "my_iterator = iter(my_list)\n",
    "\n",
    "for i in range(5):\n",
    "    print(next(my_iterator))"
   ]
  },
  {
   "cell_type": "markdown",
   "id": "e8fd32d2-0542-4c6e-a40b-95484d755e2a",
   "metadata": {},
   "source": [
    "### Q4. What is a generator function in python? Why yield keyword is used? Give an example of a generator function."
   ]
  },
  {
   "cell_type": "markdown",
   "id": "e2c36443-2372-46cd-a010-8a163b6c8f75",
   "metadata": {},
   "source": [
    "#### answer.Generator function in Python is a function that is commonly used to return a sequence of values. Generator function behaves like a normal function but rather it uses a yield statement to return a value instead of return statement. If the body of a function contains yield statement, the function automatically becomes a generator function.ield keyword is used  to create a generator function. A type of function that is memory efficient and can be used like an iterator object."
   ]
  },
  {
   "cell_type": "code",
   "execution_count": 16,
   "id": "0e1416b9-6fbd-45ee-a6e6-178fd9caa896",
   "metadata": {},
   "outputs": [],
   "source": [
    "#example\n",
    "def test1(n):\n",
    "    a,b = 2,5\n",
    "    for i in range(n):\n",
    "        yield a\n",
    "        a,b = b ,a*b"
   ]
  },
  {
   "cell_type": "code",
   "execution_count": 17,
   "id": "d0cd7eac-8642-4814-85b1-6bf9c829c27f",
   "metadata": {},
   "outputs": [
    {
     "data": {
      "text/plain": [
       "<generator object test1 at 0x7f482db22650>"
      ]
     },
     "execution_count": 17,
     "metadata": {},
     "output_type": "execute_result"
    }
   ],
   "source": [
    "test1(10)"
   ]
  },
  {
   "cell_type": "code",
   "execution_count": 18,
   "id": "6b3e2ca2-84fb-4adc-b534-8c6c5b4e125b",
   "metadata": {},
   "outputs": [
    {
     "name": "stdout",
     "output_type": "stream",
     "text": [
      "2\n",
      "5\n",
      "10\n",
      "50\n",
      "500\n",
      "25000\n",
      "12500000\n",
      "312500000000\n",
      "3906250000000000000\n",
      "1220703125000000000000000000000\n"
     ]
    }
   ],
   "source": [
    "for i in test1(10):\n",
    "    print(i)"
   ]
  },
  {
   "cell_type": "markdown",
   "id": "eda3b03a-5224-4064-9675-2525ab764219",
   "metadata": {},
   "source": [
    "### Q5. Create a generator function for prime numbers less than 1000. Use the next() method to print the first 20 prime numbers."
   ]
  },
  {
   "cell_type": "code",
   "execution_count": 62,
   "id": "b5ba1479-9ea9-47fa-9139-ad8027b3c218",
   "metadata": {},
   "outputs": [],
   "source": [
    "#example\n",
    "def generate_primes():\n",
    "    primes = []\n",
    "    for num in range(2, 1000):\n",
    "        is_prime = True\n",
    "        for prime in primes:\n",
    "            if num % prime == 0:\n",
    "                is_prime = False\n",
    "                break\n",
    "        if is_prime:\n",
    "            primes.append(num)\n",
    "            yield num"
   ]
  },
  {
   "cell_type": "code",
   "execution_count": 63,
   "id": "518c668d-d837-4953-b272-fc26e22387b7",
   "metadata": {},
   "outputs": [
    {
     "data": {
      "text/plain": [
       "<generator object generate_primes at 0x7f482474f920>"
      ]
     },
     "execution_count": 63,
     "metadata": {},
     "output_type": "execute_result"
    }
   ],
   "source": [
    "generate_primes()"
   ]
  },
  {
   "cell_type": "code",
   "execution_count": null,
   "id": "f1a5d07c-d895-4a29-8210-faba8ee81c6e",
   "metadata": {},
   "outputs": [],
   "source": [
    "for i in generate_primes():\n",
    "    print(i)\n",
    "    "
   ]
  },
  {
   "cell_type": "code",
   "execution_count": 67,
   "id": "ab477fe3-126f-467f-b16c-e96ff81b96bd",
   "metadata": {},
   "outputs": [
    {
     "name": "stdout",
     "output_type": "stream",
     "text": [
      "2\n",
      "3\n",
      "5\n",
      "7\n",
      "11\n",
      "13\n",
      "17\n",
      "19\n",
      "23\n",
      "29\n",
      "31\n",
      "37\n",
      "41\n",
      "43\n",
      "47\n",
      "53\n",
      "59\n",
      "61\n",
      "67\n",
      "71\n"
     ]
    }
   ],
   "source": [
    "#example 2\n",
    "prime_generator = generate_primes()\n",
    "for i in range(20):\n",
    "    prime = next(prime_generator)\n",
    "    print(prime)"
   ]
  },
  {
   "cell_type": "code",
   "execution_count": null,
   "id": "ec589ef5-cb6f-432b-902f-89d60a5dd2cf",
   "metadata": {},
   "outputs": [],
   "source": []
  }
 ],
 "metadata": {
  "kernelspec": {
   "display_name": "Python 3 (ipykernel)",
   "language": "python",
   "name": "python3"
  },
  "language_info": {
   "codemirror_mode": {
    "name": "ipython",
    "version": 3
   },
   "file_extension": ".py",
   "mimetype": "text/x-python",
   "name": "python",
   "nbconvert_exporter": "python",
   "pygments_lexer": "ipython3",
   "version": "3.10.8"
  }
 },
 "nbformat": 4,
 "nbformat_minor": 5
}
